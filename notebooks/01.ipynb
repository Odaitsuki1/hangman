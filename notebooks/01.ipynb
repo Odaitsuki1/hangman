{
  "cells": [
    {
      "cell_type": "markdown",
      "source": [
        "# 第1回 オンラインジャッジを活用しよう"
      ],
      "metadata": {
        "id": "ipIK33bDS4la"
      },
      "id": "ipIK33bDS4la"
    },
    {
      "cell_type": "markdown",
      "source": [],
      "metadata": {
        "id": "W5PPTSfVS4lf"
      },
      "id": "W5PPTSfVS4lf"
    },
    {
      "cell_type": "markdown",
      "source": [
        "## 前提知識"
      ],
      "metadata": {
        "id": "yliKaXdJS4lg"
      },
      "id": "yliKaXdJS4lg"
    },
    {
      "cell_type": "markdown",
      "source": [
        "\n",
        "Pythonの基本\n",
        "\n",
        "-   アルソフ『独学プログラマー』（日経BP, 2018）の第1部と第2部\n",
        "\n",
        "基礎を固めるために，次のサイトの問題を解けるようにしておくとよいだろう。（4月中くらい？）\n",
        "\n",
        "| タイトル                                                                                                    | 確認                                                                 | メモ        |\n",
        "|-------------------------------------------------------------------------------------------------------------|----------------------------------------------------------------------|-------------|\n",
        "| [AIZU ONLINE JUDGEのITP1](https://onlinejudge.u-aizu.ac.jp/courses/lesson/2/ITP1/all)                       | [\\# All](https://onlinejudge.u-aizu.ac.jp/courses/lesson/2/ITP1/all) | ♠トピック11 |\n",
        "| [Python入門 AtCoder Programming Guide for beginners (APG4bPython)](https://atcoder.jp/contests/APG4bPython) | [得点状況](https://atcoder.jp/contests/APG4bPython/score)            |             |"
      ],
      "metadata": {
        "id": "beh9qlaJS4lg"
      },
      "id": "beh9qlaJS4lg"
    },
    {
      "cell_type": "markdown",
      "source": [
        "## 受講環境"
      ],
      "metadata": {
        "id": "0xp1FDtrS4li"
      },
      "id": "0xp1FDtrS4li"
    },
    {
      "cell_type": "markdown",
      "source": [
        "\n",
        "-   ウェブブラウザとキーボード\n",
        "-   紙とペン"
      ],
      "metadata": {
        "id": "tf0qrYtfS4li"
      },
      "id": "tf0qrYtfS4li"
    },
    {
      "cell_type": "markdown",
      "source": [
        "## 必要なアカウント"
      ],
      "metadata": {
        "id": "FAaF7MclS4lj"
      },
      "id": "FAaF7MclS4lj"
    },
    {
      "cell_type": "markdown",
      "source": [
        "\n",
        "-   Google Colab （大学のGmailのアカウント）\n",
        "-   https://onlinejudge.u-aizu.ac.jp\n",
        "-   https://atcoder.jp"
      ],
      "metadata": {
        "id": "M7awXoFsS4lj"
      },
      "id": "M7awXoFsS4lj"
    },
    {
      "cell_type": "markdown",
      "source": [
        "## 内容"
      ],
      "metadata": {
        "id": "3nwjAIAOS4lk"
      },
      "id": "3nwjAIAOS4lk"
    },
    {
      "cell_type": "markdown",
      "source": [
        "\n",
        "AIで置き換えやすい順\n",
        "\n",
        "1.  プログラミングテクニック\n",
        "2.  定番のデータ構造とアルゴリズム\n",
        "3.  問題解決能力\n",
        "    1.  現実世界を**観察**する。\n",
        "    2.  解けそうな問題を**発見**する。\n",
        "    3.  コンピュータで解ける形に**整理**する。\n",
        "    4.  **効率**のよいプログラム，あるいは効率のよいプログラムを生成する**プロンプト**を書く。\n",
        "    5.  プログラムの正しさを確認する。\n",
        "    6.  結果について**考察**する。\n",
        "4.  コンピュータについての理解\n",
        "5.  「習得への情熱」\n",
        "\n",
        "やらないこと\n",
        "\n",
        "-   競プロの本番の問題：高校数学に例えれば，解きたいのは教科書の練習問題であって，大学入試問題ではない。\n",
        "-   特定の分野で使われるデータ構造とアルゴリズム（データサイエンス，機械学習，幾何学，数値計算，暗号，パズルなど）"
      ],
      "metadata": {
        "id": "y6XsvG34S4ll"
      },
      "id": "y6XsvG34S4ll"
    },
    {
      "cell_type": "markdown",
      "source": [
        "### プログラミング言語"
      ],
      "metadata": {
        "id": "oEaxpFCJS4ll"
      },
      "id": "oEaxpFCJS4ll"
    },
    {
      "cell_type": "markdown",
      "source": [
        "\n",
        "-   Python\n",
        "-   C言語やC++は？\n",
        "-   アセンブリ言語は？\n",
        "\n",
        "競プロでは，C言語やC++には，パフォーマンス上のメリットがある。\n",
        "\n",
        "独学する場合は，[C++入門 AtCoder Programming Guide for beginners\n",
        "(APG4b)](https://atcoder.jp/contests/APG4b)をやれば十分だが，そこで扱われるのはC++のごく一部であることに注意してほしい。矢吹太朗『C++の教科書』（日経BP,\n",
        "2017）と比較してみよ。\n",
        "\n",
        "<img src=\"https://ndlsearch.ndl.go.jp/thumbnail/9784822298937.jpg\" width=\"100\"/>"
      ],
      "metadata": {
        "id": "duGxRPpxS4ll"
      },
      "id": "duGxRPpxS4ll"
    },
    {
      "cell_type": "markdown",
      "source": [
        "### オンラインジャッジ"
      ],
      "metadata": {
        "id": "0FLJiYqDS4lm"
      },
      "id": "0FLJiYqDS4lm"
    },
    {
      "cell_type": "markdown",
      "source": [
        "\n",
        "[APG4bPython\n",
        "EX5](https://atcoder.jp/contests/APG4bPython/tasks/APG4bPython_cr)を例に，講義内で説明する。"
      ],
      "metadata": {
        "id": "3oWw8QkoS4lm"
      },
      "id": "3oWw8QkoS4lm"
    },
    {
      "cell_type": "code",
      "source": [
        "tmp = input().split()\n",
        "a = int(tmp[0])\n",
        "b = int(tmp[1])\n",
        "print(a + b)"
      ],
      "metadata": {
        "colab": {
          "base_uri": "https://localhost:8080/"
        },
        "id": "V4bXLIsScdoI",
        "outputId": "c1ed3a77-0312-4832-b501-b3235900dfc2"
      },
      "id": "V4bXLIsScdoI",
      "execution_count": 1,
      "outputs": [
        {
          "output_type": "stream",
          "name": "stdout",
          "text": [
            "1 2\n",
            "3\n"
          ]
        }
      ]
    },
    {
      "cell_type": "code",
      "source": [
        "tmp =input().split()\n",
        "list(map(int, tmp))"
      ],
      "metadata": {
        "colab": {
          "base_uri": "https://localhost:8080/"
        },
        "id": "iCA60U8BcyUS",
        "outputId": "92638f0b-2372-4b04-8ac9-4ad4cc68ecf2"
      },
      "id": "iCA60U8BcyUS",
      "execution_count": 3,
      "outputs": [
        {
          "name": "stdout",
          "output_type": "stream",
          "text": [
            "1 2\n"
          ]
        },
        {
          "output_type": "execute_result",
          "data": {
            "text/plain": [
              "[1, 2]"
            ]
          },
          "metadata": {},
          "execution_count": 3
        }
      ]
    },
    {
      "cell_type": "code",
      "source": [
        "a, b = map(int, input().split())\n",
        "print(a + b)"
      ],
      "metadata": {
        "colab": {
          "base_uri": "https://localhost:8080/"
        },
        "id": "cc9DXf_Od5ii",
        "outputId": "a027a72f-bed0-49fd-af8a-72d07845f81e"
      },
      "id": "cc9DXf_Od5ii",
      "execution_count": 10,
      "outputs": [
        {
          "output_type": "stream",
          "name": "stdout",
          "text": [
            "1 2\n",
            "3\n"
          ]
        }
      ]
    },
    {
      "cell_type": "markdown",
      "source": [
        "#### オンラインジャッジ（や競プロ）で心配なこと"
      ],
      "metadata": {
        "id": "GN82JHdgS4lm"
      },
      "id": "GN82JHdgS4lm"
    },
    {
      "cell_type": "markdown",
      "source": [
        "\n",
        "-   明確な問題が提示されるが，現実にはそういうことは稀である。\n",
        "-   オンラインジャッジにパスして満足しがち。\n",
        "    -   真：正しいプログラムはテストにパスする。\n",
        "    -   真：テストにパスしないプログラムは間違っている。\n",
        "    -   偽：テストにパスするプログラムは正しい。\n",
        "    -   偽：間違ったプログラムはテストをパスしない。\n",
        "-   （最善を尽くしても）何時間もかかるような問題の経験を積めない。\n",
        "-   問題に特化したプログラムで満足しがち。（例：データ構造の実体を1個しか作れない。）"
      ],
      "metadata": {
        "id": "_itZP4OgS4ln"
      },
      "id": "_itZP4OgS4ln"
    },
    {
      "cell_type": "markdown",
      "source": [
        "### 問題への取り組み方"
      ],
      "metadata": {
        "id": "gTxPype-S4ln"
      },
      "id": "gTxPype-S4ln"
    },
    {
      "cell_type": "markdown",
      "source": [
        "\n",
        "自分に向いたものを選ぶ。一つに限定する必要はない。\n",
        "\n",
        "-   ~~問題をそのままAIに与えて解く。~~（効果に疑問あり）\n",
        "-   データ構造やアルゴリズムのライブラリを使う。（最初のゴール）\n",
        "-   データ構造やアルゴリズムのライブラリに頼らずに，それらを自分で作る。\n",
        "-   データ構造やアルゴリズムのライブラリに頼らずに，それらをAIで作る。\n",
        "-   ~~教科書のコード（C言語やC++）をそのまま入力して解く。~~（効果に疑問あり）\n",
        "-   教科書のコードを自分でPythonに翻訳して解く。\n",
        "-   教科書のコードをAIでPythonに翻訳して解く。"
      ],
      "metadata": {
        "id": "vfHv81IDS4ln"
      },
      "id": "vfHv81IDS4ln"
    },
    {
      "cell_type": "markdown",
      "source": [
        "## 教科書・参考書"
      ],
      "metadata": {
        "id": "1hQC_YFWS4ln"
      },
      "id": "1hQC_YFWS4ln"
    },
    {
      "cell_type": "markdown",
      "source": [
        "\n",
        "英語の教科書は，そのPDFが公開されている場合がある。日本語で読みたい場合は，[PDFMathTranslate](https://github.com/Byaidu/PDFMathTranslate/blob/main/docs/README_ja-JP.md)で翻訳するとよいだろう。"
      ],
      "metadata": {
        "id": "XY2sDSa2S4lo"
      },
      "id": "XY2sDSa2S4lo"
    },
    {
      "cell_type": "markdown",
      "source": [
        "### 教科書"
      ],
      "metadata": {
        "id": "scarwTKdS4lo"
      },
      "id": "scarwTKdS4lo"
    },
    {
      "cell_type": "markdown",
      "source": [
        "\n",
        "<img src=\"https://ndlsearch.ndl.go.jp/thumbnail/9784839952952.jpg\" width=\"100\"/>\n",
        "**渡部有隆『プログラミングコンテスト攻略のためのアルゴリズムとデータ構造』（マイナビ出版,\n",
        "2015）（C，C++，オンラインジャッジ。「文字列のアルゴリズム」は扱われていない。）**\n",
        "\n",
        "-   千葉工大図書館（紙）\n",
        "-   千葉工大図書館（オンライン）　同時アクセス可能1人。60ページまで印刷できる。\n",
        "-   紙（新品あるいは古書）　自分のものになる（後輩にあげられる）。\n",
        "-   電子書籍　読む権利を購入するだけ。\n",
        "-   PDF　Google\n",
        "    NotebookLMなどのAIに入力して質問するのに便利（例：「2.2節のAlgorithm\n",
        "    1をPythonで実装して」）\n",
        "\n",
        "メモ\n",
        "\n",
        "-   競プロの本番の問題を扱わないのに競プロの本を使うのは，オンラインジャッジを使いたいからである。\n",
        "-   ♠教科書ではC言語やC++が使われている。それをPythonに翻訳する場合に，変数や関数の名前がPythonの（[PEP\n",
        "    8](https://peps.python.org/pep-0008/)）に反する危険がある。例えば，関数名`insertionSort`は，Pythonでは`insertion_sort`とするのが一般的である。しかし，これはあくまで「規約」であるため，この講義では教科書の名前をそのまま使うことにする。そのほかにも，Pythonの規約に従わないことはあるだろう（インデントとか）。"
      ],
      "metadata": {
        "id": "V5q_BXsxS4lo"
      },
      "id": "V5q_BXsxS4lo"
    },
    {
      "cell_type": "markdown",
      "source": [
        "### 参考書"
      ],
      "metadata": {
        "id": "HLowZALSS4lo"
      },
      "id": "HLowZALSS4lo"
    },
    {
      "cell_type": "markdown",
      "source": [],
      "metadata": {
        "id": "TuLa3mNOS4lo"
      },
      "id": "TuLa3mNOS4lo"
    },
    {
      "cell_type": "markdown",
      "source": [
        "#### 伝統的"
      ],
      "metadata": {
        "id": "2kNGHX_qS4lo"
      },
      "id": "2kNGHX_qS4lo"
    },
    {
      "cell_type": "markdown",
      "source": [
        "\n",
        "-   <img src=\"https://ndlsearch.ndl.go.jp/thumbnail/9784798172439.jpg\" width=\"100\"/>\n",
        "    石田保輝ほか『アルゴリズム図鑑』（翔泳社, 増補改訂版,\n",
        "    2023）　アプリもある（一部有料。AppleとGoogleで価格が異なるかもしれない）。\n",
        "-   <img src=\"https://ndlsearch.ndl.go.jp/thumbnail/9784065128442.jpg\" width=\"100\"/>\n",
        "    大槻兼資『問題解決力を鍛える！アルゴリズムとデータ構造』（講談社,\n",
        "    2020）（C++）　競プロ本番の問題が題材になっている。\n",
        "-   <img src=\"https://images-fe.ssl-images-amazon.com/images/P/4797304952.09.LZZZZZZZ\" width=\"100\"/>\n",
        "    近藤嘉雪『定本Cプログラマのためのアルゴリズムとデータ構造』（ソフトバンク,\n",
        "    1998）　（C言語。「グラフのアルゴリズム」は扱われていない。）\n",
        "-   <img src=\"https://ndlsearch.ndl.go.jp/thumbnail/9784000103435.jpg\" width=\"100\"/>\n",
        "    石畑清『アルゴリズムとデータ構造』（岩波書店,\n",
        "    1989）（Pascal，C，Lisp）\n",
        "-   <img src=\"https://ndlsearch.ndl.go.jp/thumbnail/9784764906495.jpg\" width=\"100\"/>\n",
        "    コルメンほか『アルゴリズムイントロダクション』（近代科学社, 第4版,\n",
        "    2024）（擬似コード。[サポートサイト](https://mitpress.mit.edu/9780262046305/introduction-to-algorithms/)にPythonのコード）\n",
        "    **CLRS**と略されるが，この講義ではコルメンということもある。\n",
        "-   クヌース『The Art of Computer\n",
        "    Programming』（KADOKAWA）（擬似コード）　Knuth（1938-）による教科書。全7巻（12章）の予定で，第4巻（4A，4B，4C）の4Bまで刊行されている。**TAOCP**と略されるが（[Oは大文字](https://www-cs-faculty.stanford.edu/~knuth/taocp.html)），この講義ではクヌースということもある。\n",
        "\n",
        "<img src=\"https://images-fe.ssl-images-amazon.com/images/P/4048694022.09.LZZZZZZZ\" width=\"100\"/>\n",
        "<img src=\"https://images-fe.ssl-images-amazon.com/images/P/4756147127.09.LZZZZZZZ\" width=\"100\"/>\n",
        "<img src=\"https://images-fe.ssl-images-amazon.com/images/P/4048694162.09.LZZZZZZZ\" width=\"100\"/>\n",
        "<img src=\"https://images-fe.ssl-images-amazon.com/images/P/4048694316.09.LZZZZZZZ\" width=\"100\"/>\n",
        "<img src=\"https://images-fe.ssl-images-amazon.com/images/P/4048930559.09.LZZZZZZZ\" width=\"100\"/>\n",
        "<img src=\"https://images-fe.ssl-images-amazon.com/images/P/4048931148.09.LZZZZZZZ\" width=\"100\"/>\n",
        "\n",
        "> 私の本のどの5ページを取っても誰かの一生涯分の研究になっているということです。（Peter\n",
        "> Seibel『Coders at Work』の第15章「ドナルド・クヌース」）\n",
        "\n",
        "<img src=\"https://ndlsearch.ndl.go.jp/thumbnail/9784274068478.jpg\" width=\"100\"/>"
      ],
      "metadata": {
        "id": "5I7-baLUS4lo"
      },
      "id": "5I7-baLUS4lo"
    },
    {
      "cell_type": "markdown",
      "source": [
        "#### 競技プログラミング特化"
      ],
      "metadata": {
        "id": "rZjgqvr4S4lp"
      },
      "id": "rZjgqvr4S4lp"
    },
    {
      "cell_type": "markdown",
      "source": [
        "\n",
        "-   <img src=\"https://ndlsearch.ndl.go.jp/thumbnail/9784839977504.jpg\" width=\"100\"/>\n",
        "    米田優峻『競技プログラミングの鉄則』（マイナビ出版,\n",
        "    2022）（**オンラインジャッジ**，C++・Python・Java）\n",
        "-   <img src=\"https://ndlsearch.ndl.go.jp/thumbnail/9784839972776.jpg\" width=\"100\"/>\n",
        "    岩下真也ほか『アルゴリズム実技検定公式テキスト　エントリー～中級編』（マイナビ出版,\n",
        "    2021）（**オンラインジャッジ**，Python）"
      ],
      "metadata": {
        "id": "m5holXZZS4lp"
      },
      "id": "m5holXZZS4lp"
    },
    {
      "cell_type": "markdown",
      "source": [
        "#### その他"
      ],
      "metadata": {
        "id": "SdX5PHWhS4lp"
      },
      "id": "SdX5PHWhS4lp"
    },
    {
      "cell_type": "markdown",
      "source": [
        "\n",
        "-   <img src=\"https://ndlsearch.ndl.go.jp/thumbnail/9784023323421.jpg\" width=\"100\"/>\n",
        "    井上真偽『引きこもり姉ちゃんのアルゴリズム推理』（朝日新聞出版,\n",
        "    2024）\n",
        "-   <img src=\"https://images-fe.ssl-images-amazon.com/images/P/4774196908.09.LZZZZZZZ\" width=\"100\"/>\n",
        "    奥村晴彦『C言語による標準アルゴリズム事典』（技術評論社, 改訂新版,\n",
        "    2018）（C言語）\n",
        "-   <img src=\"https://ndlsearch.ndl.go.jp/thumbnail/9784621309032.jpg\" width=\"100\"/><img src=\"https://ndlsearch.ndl.go.jp/thumbnail/9784621309049.jpg\" width=\"100\"/>\n",
        "    Skiena, S. Steven『アルゴリズム設計マニュアル　上・下』（丸善出版,\n",
        "    2024）（C言語）[サポートサイト](https://www.algorist.com/)\n",
        "-   <img src=\"https://images-fe.ssl-images-amazon.com/images/P/4894712369.09.LZZZZZZZ\" width=\"100\"/>\n",
        "    ベントリー『珠玉のプログラミング』（桐原書店, 2000）（丸善出版,\n",
        "    2014）（C++）\n",
        "-   <img src=\"https://ndlsearch.ndl.go.jp/thumbnail/9784320122178.jpg\" width=\"100\"/>\n",
        "    Kleinberg, Eva Tardos『アルゴリズムデザイン』（共立出版, 2008）"
      ],
      "metadata": {
        "id": "lj-wksg1S4lp"
      },
      "id": "lj-wksg1S4lp"
    },
    {
      "cell_type": "markdown",
      "source": [
        "## プログラムの実行"
      ],
      "metadata": {
        "id": "nl-mq6Z8S4lp"
      },
      "id": "nl-mq6Z8S4lp"
    },
    {
      "cell_type": "markdown",
      "source": [
        "\n",
        "通常，プログラムで使うデータは，プログラム中には書かずに，実行時に入力する。\n",
        "\n",
        "簡単な例として，入力された整数を3倍した結果を出力するプログラムを作って実行する。**入力されるのは文字列だから`int()`で整数に変換する。**"
      ],
      "metadata": {
        "id": "8NDMrsr0S4lq"
      },
      "id": "8NDMrsr0S4lq"
    },
    {
      "cell_type": "code",
      "execution_count": null,
      "metadata": {
        "id": "qBDRHD9xS4lq"
      },
      "outputs": [],
      "source": [
        "a = int(input())\n",
        "print(a * 3)"
      ],
      "id": "qBDRHD9xS4lq"
    },
    {
      "cell_type": "markdown",
      "source": [
        "Shift+Enterで実行すると入力用のプロンプトが現れるから，そこに整数を入力すると，その3倍が出力される。\n",
        "\n",
        "しかし，この方法は，入力が1回だけの場合にはよいが，何度も入力する場合には面倒である。この問題を解決する方法を二つ紹介する。\n",
        "\n",
        "-   AtCodeerのコードテスト\n",
        "-   Google Colab"
      ],
      "metadata": {
        "id": "KPsKNGOLS4ls"
      },
      "id": "KPsKNGOLS4ls"
    },
    {
      "cell_type": "markdown",
      "source": [
        "### AtCoderのコードテスト"
      ],
      "metadata": {
        "id": "5RnfZOZ7S4lu"
      },
      "id": "5RnfZOZ7S4lu"
    },
    {
      "cell_type": "markdown",
      "source": [
        "\n",
        "第1回の講義では試さなくてもよい（AtCoderのアカウントが必要）。\n",
        "\n",
        "[AtCodeerのコードテスト](https://atcoder.jp/contests/APG4bPython/custom_test)は，ブラウザ上でコードとデータを入力するだけで，そのコードにデータを入力して実行できる環境である。手軽だが，入力データが複数あるときは使いにくい。\n",
        "\n",
        "使い方\n",
        "\n",
        "1.  **言語**はPython (CPython 3.XX)，または，Python (PyPy 3.XX)を選ぶ。\n",
        "2.  **ソースコード**にコードを入力する。\n",
        "3.  **標準入力**に入力データを入力する。\n",
        "4.  **実行ボタン**を押す。\n",
        "\n",
        "♠Pythonの標準の実装（CPython）の代わりにPyPyを使うと速くなることがある。ただし，ライブラリが対応しない場合もあるから，この講義ではあまり使わない。"
      ],
      "metadata": {
        "id": "Z8I9SKzVS4lu"
      },
      "id": "Z8I9SKzVS4lu"
    },
    {
      "cell_type": "markdown",
      "source": [
        "### Google Colab"
      ],
      "metadata": {
        "id": "0hQDavOOS4lv"
      },
      "id": "0hQDavOOS4lv"
    },
    {
      "cell_type": "markdown",
      "source": [
        "\n",
        "入力データをテキストファイルに書いておいて，実行時にそのファイルのデータを入力する。\n",
        "\n",
        "まず，上のPythonのコードをファイルcalc.pyに保存する。"
      ],
      "metadata": {
        "id": "-jyPzf2lS4lv"
      },
      "id": "-jyPzf2lS4lv"
    },
    {
      "cell_type": "code",
      "execution_count": null,
      "metadata": {
        "id": "vQY3CpKHS4lv"
      },
      "outputs": [],
      "source": [
        "%%writefile calc.py\n",
        "a = int(input())\n",
        "print(a * 3)"
      ],
      "id": "vQY3CpKHS4lv"
    },
    {
      "cell_type": "markdown",
      "source": [
        "次に，入力データをinput.datに保存する。"
      ],
      "metadata": {
        "id": "nS7sFSKIS4lz"
      },
      "id": "nS7sFSKIS4lz"
    },
    {
      "cell_type": "code",
      "execution_count": null,
      "metadata": {
        "id": "eNMFOsQ5S4l0"
      },
      "outputs": [],
      "source": [
        "%%writefile input.dat\n",
        "100"
      ],
      "id": "eNMFOsQ5S4l0"
    },
    {
      "cell_type": "markdown",
      "source": [
        "calc.pyのコードにinput.datのデータを与えて実行する。"
      ],
      "metadata": {
        "id": "TkSaQolHS4l0"
      },
      "id": "TkSaQolHS4l0"
    },
    {
      "cell_type": "code",
      "execution_count": null,
      "metadata": {
        "id": "gz5om7kHS4l0"
      },
      "outputs": [],
      "source": [
        "!python3 calc.py < input.dat"
      ],
      "id": "gz5om7kHS4l0"
    },
    {
      "cell_type": "markdown",
      "source": [
        "♠PyPyを使う場合は次のとおり。事前に「`!apt-get install -y pypy3`」としてインストールしておく必要がある。"
      ],
      "metadata": {
        "id": "XUJma7mES4l0"
      },
      "id": "XUJma7mES4l0"
    },
    {
      "cell_type": "code",
      "execution_count": null,
      "metadata": {
        "id": "aUZvd1oIS4l0"
      },
      "outputs": [],
      "source": [
        "!pypy3 calc.py < input.dat"
      ],
      "id": "aUZvd1oIS4l0"
    },
    {
      "cell_type": "markdown",
      "source": [
        "## 頻出パターン"
      ],
      "metadata": {
        "id": "c3My_9WNS4l1"
      },
      "id": "c3My_9WNS4l1"
    },
    {
      "cell_type": "markdown",
      "source": [],
      "metadata": {
        "id": "cRoZGNg5S4l1"
      },
      "id": "cRoZGNg5S4l1"
    },
    {
      "cell_type": "markdown",
      "source": [
        "### Google Colab"
      ],
      "metadata": {
        "id": "y5vjeFzJS4l1"
      },
      "id": "y5vjeFzJS4l1"
    },
    {
      "cell_type": "markdown",
      "source": [
        "\n",
        "シェルコマンド（先頭に「`!`」）"
      ],
      "metadata": {
        "id": "hBMrlkHPS4l1"
      },
      "id": "hBMrlkHPS4l1"
    },
    {
      "cell_type": "code",
      "execution_count": null,
      "metadata": {
        "id": "CRUuzGpTS4l1"
      },
      "outputs": [],
      "source": [
        "!ls"
      ],
      "id": "CRUuzGpTS4l1"
    },
    {
      "cell_type": "markdown",
      "source": [
        "セルの実行時間を計る。"
      ],
      "metadata": {
        "id": "NRZH7Ej2S4l1"
      },
      "id": "NRZH7Ej2S4l1"
    },
    {
      "cell_type": "code",
      "execution_count": null,
      "metadata": {
        "id": "BcuIkl8fS4l2"
      },
      "outputs": [],
      "source": [
        "%%time\n",
        "# ここにコードを書く。"
      ],
      "id": "BcuIkl8fS4l2"
    },
    {
      "cell_type": "markdown",
      "source": [
        "♠[ローカルランタイム](https://research.google.com/colaboratory/local-runtimes.html?hl=ja)を使うには，自分のPCで次を実行する。\n",
        "\n",
        "    docker run --rm -p 127.0.0.1:9000:8080 asia-docker.pkg.dev/colab-images/public/runtime"
      ],
      "metadata": {
        "id": "TozzPx2zS4l2"
      },
      "id": "TozzPx2zS4l2"
    },
    {
      "cell_type": "markdown",
      "source": [
        "### Python"
      ],
      "metadata": {
        "id": "R9C4Ri8VS4l2"
      },
      "id": "R9C4Ri8VS4l2"
    },
    {
      "cell_type": "markdown",
      "source": [
        "\n",
        "文字列を空白で分割する。"
      ],
      "metadata": {
        "id": "lOp79hOTS4l2"
      },
      "id": "lOp79hOTS4l2"
    },
    {
      "cell_type": "code",
      "execution_count": null,
      "metadata": {
        "id": "GIirhlzbS4l2"
      },
      "outputs": [],
      "source": [
        "print(\"30 10 40\".split())"
      ],
      "id": "GIirhlzbS4l2"
    },
    {
      "cell_type": "markdown",
      "source": [
        "数字列を整数に変換する。"
      ],
      "metadata": {
        "id": "htBsHTbAS4l3"
      },
      "id": "htBsHTbAS4l3"
    },
    {
      "cell_type": "code",
      "execution_count": null,
      "metadata": {
        "id": "OR-Yp88qS4l3"
      },
      "outputs": [],
      "source": [
        "print(int(\"123\"))"
      ],
      "id": "OR-Yp88qS4l3"
    },
    {
      "cell_type": "markdown",
      "source": [
        "数字列のリストを整数のリストに変換する。"
      ],
      "metadata": {
        "id": "0Fa52P5IS4l3"
      },
      "id": "0Fa52P5IS4l3"
    },
    {
      "cell_type": "code",
      "execution_count": null,
      "metadata": {
        "id": "AYVupSN_S4l3"
      },
      "outputs": [],
      "source": [
        "print(list(map(int, \"30 10 40\".split())))"
      ],
      "id": "AYVupSN_S4l3"
    },
    {
      "cell_type": "markdown",
      "source": [
        "二つの変数の値を交換する。"
      ],
      "metadata": {
        "id": "opt2iKSPS4l4"
      },
      "id": "opt2iKSPS4l4"
    },
    {
      "cell_type": "code",
      "execution_count": null,
      "metadata": {
        "id": "mtRq4xihS4l4"
      },
      "outputs": [],
      "source": [
        "a, b = 3, 4\n",
        "a, b = b, a\n",
        "print(a, b)"
      ],
      "id": "mtRq4xihS4l4"
    },
    {
      "cell_type": "markdown",
      "source": [
        "2～3個の整数の入力を，別々の変数に格納する。"
      ],
      "metadata": {
        "id": "JIjv6zY7S4l4"
      },
      "id": "JIjv6zY7S4l4"
    },
    {
      "cell_type": "code",
      "execution_count": null,
      "metadata": {
        "id": "Tq2XXSMIS4l4"
      },
      "outputs": [],
      "source": [
        "a, b = map(int, input().split())\n",
        "print(a, b)"
      ],
      "id": "Tq2XXSMIS4l4"
    },
    {
      "cell_type": "code",
      "execution_count": null,
      "metadata": {
        "id": "HnztCh7kS4l4"
      },
      "outputs": [],
      "source": [
        "a, b, c = map(int, input().split())\n",
        "print(a, b, c)"
      ],
      "id": "HnztCh7kS4l4"
    },
    {
      "cell_type": "markdown",
      "source": [
        "スペース区切りのn個の整数の入力を，リストに格納する。"
      ],
      "metadata": {
        "id": "_17kBMleS4l5"
      },
      "id": "_17kBMleS4l5"
    },
    {
      "cell_type": "code",
      "execution_count": null,
      "metadata": {
        "id": "kIdkSVr2S4l5"
      },
      "outputs": [],
      "source": [
        "a = list(map(int, input().split()))\n",
        "print(a)"
      ],
      "id": "kIdkSVr2S4l5"
    },
    {
      "cell_type": "markdown",
      "source": [
        "n行でn個の入力を，リストに格納する。"
      ],
      "metadata": {
        "id": "WBAFMJkLS4l5"
      },
      "id": "WBAFMJkLS4l5"
    },
    {
      "cell_type": "code",
      "execution_count": null,
      "metadata": {
        "id": "8NIhA_7uS4l5"
      },
      "outputs": [],
      "source": [
        "import sys\n",
        "a = list(map(int, sys.stdin.read().split()))\n",
        "print(a)"
      ],
      "id": "8NIhA_7uS4l5"
    },
    {
      "cell_type": "markdown",
      "source": [
        "上より遅いが，次のコードの方がわかりやすいかもしれない。"
      ],
      "metadata": {
        "id": "OeIw6oHJS4l5"
      },
      "id": "OeIw6oHJS4l5"
    },
    {
      "cell_type": "code",
      "execution_count": null,
      "metadata": {
        "id": "VM7dXTRwS4l5"
      },
      "outputs": [],
      "source": [
        "a = [int(input()) for _ in range(n)]\n",
        "print(a)"
      ],
      "id": "VM7dXTRwS4l5"
    },
    {
      "cell_type": "markdown",
      "source": [
        "2～3個の変数の値を，スペース区切りで出力する。"
      ],
      "metadata": {
        "id": "QwVsWx7fS4l5"
      },
      "id": "QwVsWx7fS4l5"
    },
    {
      "cell_type": "code",
      "execution_count": null,
      "metadata": {
        "id": "QmyIxEfUS4l6"
      },
      "outputs": [],
      "source": [
        "a, b = 3, 4\n",
        "print(a, b)"
      ],
      "id": "QmyIxEfUS4l6"
    },
    {
      "cell_type": "markdown",
      "source": [
        "リストの要素の値を，スペース区切りで出力する。\n",
        "\n",
        "    a = [1, 2, 3]\n",
        "    print(*a)\n",
        "    print(\" \".join(map(str, a))) # スペース区切り以外にも対応しやすい方法"
      ],
      "metadata": {
        "id": "8zh009EzS4l6"
      },
      "id": "8zh009EzS4l6"
    },
    {
      "cell_type": "markdown",
      "source": [
        "## 宿題"
      ],
      "metadata": {
        "id": "tVo584J3S4l6"
      },
      "id": "tVo584J3S4l6"
    },
    {
      "cell_type": "markdown",
      "source": [
        "\n",
        "1.  次のウェブサイトのアカウントを作る（すでにある場合はそれを使ってよい）。\n",
        "    -   https://onlinejudge.u-aizu.ac.jp\n",
        "    -   https://atcoder.jp\n",
        "2.  以下の問題をAC（Accepted）にする。Pythonを使うこと。\n",
        "    -   [ITP1\\_1\\_A](https://onlinejudge.u-aizu.ac.jp/courses/lesson/2/ITP1/1/ITP1_1_A)\n",
        "        (Hello World)\n",
        "    -   [APG4bPython\n",
        "        A](https://atcoder.jp/contests/APG4bPython/tasks/APG4bPython_a)\n",
        "        (Hello World)\n",
        "    -   [ITP1\\_3\\_A](https://onlinejudge.u-aizu.ac.jp/courses/lesson/2/ITP1/3/ITP1_3_A)\n",
        "        (Print Many Hello World)\n",
        "    -   [ITP1\\_1\\_B](https://onlinejudge.u-aizu.ac.jp/courses/lesson/2/ITP1/1/ITP1_1_B)\n",
        "        (X Cubic)\n",
        "    -   [APG4bPython\n",
        "        EX5](https://atcoder.jp/contests/APG4bPython/tasks/APG4bPython_cr)\n",
        "        (A+B)\n",
        "    -   [ITP1\\_2\\_A](https://onlinejudge.u-aizu.ac.jp/courses/lesson/2/ITP1/2/ITP1_2_A)\n",
        "        (Small, Large, or Equal)\n",
        "    -   [APG4bPython\n",
        "        EX8](https://atcoder.jp/contests/APG4bPython/tasks/APG4bPython_co)\n",
        "        (n A+B)\n",
        "\n",
        "以上"
      ],
      "metadata": {
        "id": "wAEIzFBIS4l6"
      },
      "id": "wAEIzFBIS4l6"
    }
  ],
  "nbformat": 4,
  "nbformat_minor": 5,
  "metadata": {
    "colab": {
      "provenance": [],
      "toc_visible": true
    },
    "language_info": {
      "name": "python"
    },
    "kernelspec": {
      "name": "python3",
      "display_name": "Python 3"
    }
  }
}